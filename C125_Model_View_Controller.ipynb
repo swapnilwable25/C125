{
  "cells": [
    {
      "cell_type": "markdown",
      "metadata": {
        "id": "view-in-github",
        "colab_type": "text"
      },
      "source": [
        "<a href=\"https://colab.research.google.com/github/swapnilwable25/C125/blob/master/C125_Model_View_Controller.ipynb\" target=\"_parent\"><img src=\"https://colab.research.google.com/assets/colab-badge.svg\" alt=\"Open In Colab\"/></a>"
      ]
    },
    {
      "cell_type": "code",
      "execution_count": null,
      "metadata": {
        "colab": {
          "base_uri": "https://localhost:8080/"
        },
        "id": "T3qhd1czEI9f",
        "outputId": "7fab17ff-b436-4e35-dc4e-fcb39d7740f4"
      },
      "outputs": [
        {
          "name": "stdout",
          "output_type": "stream",
          "text": [
            "Collecting flask-ngrok\n",
            "  Downloading flask_ngrok-0.0.25-py3-none-any.whl (3.1 kB)\n",
            "Requirement already satisfied: requests in /usr/local/lib/python3.7/dist-packages (from flask-ngrok) (2.23.0)\n",
            "Requirement already satisfied: Flask>=0.8 in /usr/local/lib/python3.7/dist-packages (from flask-ngrok) (1.1.4)\n",
            "Requirement already satisfied: Werkzeug<2.0,>=0.15 in /usr/local/lib/python3.7/dist-packages (from Flask>=0.8->flask-ngrok) (1.0.1)\n",
            "Requirement already satisfied: itsdangerous<2.0,>=0.24 in /usr/local/lib/python3.7/dist-packages (from Flask>=0.8->flask-ngrok) (1.1.0)\n",
            "Requirement already satisfied: Jinja2<3.0,>=2.10.1 in /usr/local/lib/python3.7/dist-packages (from Flask>=0.8->flask-ngrok) (2.11.3)\n",
            "Requirement already satisfied: click<8.0,>=5.1 in /usr/local/lib/python3.7/dist-packages (from Flask>=0.8->flask-ngrok) (7.1.2)\n",
            "Requirement already satisfied: MarkupSafe>=0.23 in /usr/local/lib/python3.7/dist-packages (from Jinja2<3.0,>=2.10.1->Flask>=0.8->flask-ngrok) (2.0.1)\n",
            "Requirement already satisfied: certifi>=2017.4.17 in /usr/local/lib/python3.7/dist-packages (from requests->flask-ngrok) (2021.10.8)\n",
            "Requirement already satisfied: urllib3!=1.25.0,!=1.25.1,<1.26,>=1.21.1 in /usr/local/lib/python3.7/dist-packages (from requests->flask-ngrok) (1.24.3)\n",
            "Requirement already satisfied: chardet<4,>=3.0.2 in /usr/local/lib/python3.7/dist-packages (from requests->flask-ngrok) (3.0.4)\n",
            "Requirement already satisfied: idna<3,>=2.5 in /usr/local/lib/python3.7/dist-packages (from requests->flask-ngrok) (2.10)\n",
            "Installing collected packages: flask-ngrok\n",
            "Successfully installed flask-ngrok-0.0.25\n",
            "Collecting flask==0.12.2\n",
            "  Downloading Flask-0.12.2-py2.py3-none-any.whl (83 kB)\n",
            "\u001b[K     |████████████████████████████████| 83 kB 1.1 MB/s \n",
            "\u001b[?25hRequirement already satisfied: click>=2.0 in /usr/local/lib/python3.7/dist-packages (from flask==0.12.2) (7.1.2)\n",
            "Requirement already satisfied: Jinja2>=2.4 in /usr/local/lib/python3.7/dist-packages (from flask==0.12.2) (2.11.3)\n",
            "Requirement already satisfied: itsdangerous>=0.21 in /usr/local/lib/python3.7/dist-packages (from flask==0.12.2) (1.1.0)\n",
            "Requirement already satisfied: Werkzeug>=0.7 in /usr/local/lib/python3.7/dist-packages (from flask==0.12.2) (1.0.1)\n",
            "Requirement already satisfied: MarkupSafe>=0.23 in /usr/local/lib/python3.7/dist-packages (from Jinja2>=2.4->flask==0.12.2) (2.0.1)\n",
            "Installing collected packages: flask\n",
            "  Attempting uninstall: flask\n",
            "    Found existing installation: Flask 1.1.4\n",
            "    Uninstalling Flask-1.1.4:\n",
            "      Successfully uninstalled Flask-1.1.4\n",
            "Successfully installed flask-0.12.2\n",
            "Requirement already satisfied: flask in /usr/local/lib/python3.7/dist-packages (0.12.2)\n",
            "Collecting flask\n",
            "  Downloading Flask-2.0.2-py3-none-any.whl (95 kB)\n",
            "\u001b[K     |████████████████████████████████| 95 kB 2.5 MB/s \n",
            "\u001b[?25hCollecting Jinja2>=3.0\n",
            "  Downloading Jinja2-3.0.3-py3-none-any.whl (133 kB)\n",
            "\u001b[K     |████████████████████████████████| 133 kB 32.6 MB/s \n",
            "\u001b[?25hCollecting itsdangerous>=2.0\n",
            "  Downloading itsdangerous-2.0.1-py3-none-any.whl (18 kB)\n",
            "Collecting Werkzeug>=2.0\n",
            "  Downloading Werkzeug-2.0.2-py3-none-any.whl (288 kB)\n",
            "\u001b[K     |████████████████████████████████| 288 kB 45.8 MB/s \n",
            "\u001b[?25hRequirement already satisfied: click>=7.1.2 in /usr/local/lib/python3.7/dist-packages (from flask) (7.1.2)\n",
            "Requirement already satisfied: MarkupSafe>=2.0 in /usr/local/lib/python3.7/dist-packages (from Jinja2>=3.0->flask) (2.0.1)\n",
            "Installing collected packages: Werkzeug, Jinja2, itsdangerous, flask\n",
            "  Attempting uninstall: Werkzeug\n",
            "    Found existing installation: Werkzeug 1.0.1\n",
            "    Uninstalling Werkzeug-1.0.1:\n",
            "      Successfully uninstalled Werkzeug-1.0.1\n",
            "  Attempting uninstall: Jinja2\n",
            "    Found existing installation: Jinja2 2.11.3\n",
            "    Uninstalling Jinja2-2.11.3:\n",
            "      Successfully uninstalled Jinja2-2.11.3\n",
            "  Attempting uninstall: itsdangerous\n",
            "    Found existing installation: itsdangerous 1.1.0\n",
            "    Uninstalling itsdangerous-1.1.0:\n",
            "      Successfully uninstalled itsdangerous-1.1.0\n",
            "  Attempting uninstall: flask\n",
            "    Found existing installation: Flask 0.12.2\n",
            "    Uninstalling Flask-0.12.2:\n",
            "      Successfully uninstalled Flask-0.12.2\n",
            "\u001b[31mERROR: pip's dependency resolver does not currently take into account all the packages that are installed. This behaviour is the source of the following dependency conflicts.\n",
            "datascience 0.10.6 requires folium==0.2.1, but you have folium 0.8.3 which is incompatible.\u001b[0m\n",
            "Successfully installed Jinja2-3.0.3 Werkzeug-2.0.2 flask-2.0.2 itsdangerous-2.0.1\n"
          ]
        }
      ],
      "source": [
        "!pip install flask-ngrok\n",
        "!pip install flask==0.12.2  # Newer versions of flask don't work in Colab\n",
        "!pip install -U flask                            # See https://github.com/plotly/dash/issues/257"
      ]
    },
    {
      "cell_type": "code",
      "execution_count": null,
      "metadata": {
        "colab": {
          "background_save": true,
          "base_uri": "https://localhost:8080/"
        },
        "id": "PHa_IzN7Enpf",
        "outputId": "20e9ac7e-c85a-4e14-f6b8-1a6a8b5ca1ff"
      },
      "outputs": [
        {
          "name": "stdout",
          "output_type": "stream",
          "text": [
            " * Serving Flask app '__main__' (lazy loading)\n",
            " * Environment: production\n",
            "\u001b[31m   WARNING: This is a development server. Do not use it in a production deployment.\u001b[0m\n",
            "\u001b[2m   Use a production WSGI server instead.\u001b[0m\n",
            " * Debug mode: off\n"
          ]
        },
        {
          "name": "stderr",
          "output_type": "stream",
          "text": [
            "/usr/local/lib/python3.7/dist-packages/sklearn/linear_model/_sag.py:354: ConvergenceWarning: The max_iter was reached which means the coef_ did not converge\n",
            "  ConvergenceWarning,\n",
            " * Running on http://127.0.0.1:5000/ (Press CTRL+C to quit)\n"
          ]
        },
        {
          "name": "stdout",
          "output_type": "stream",
          "text": [
            " * Running on http://b51c-35-231-51-57.ngrok.io\n",
            " * Traffic stats available on http://127.0.0.1:4040\n"
          ]
        },
        {
          "name": "stderr",
          "output_type": "stream",
          "text": [
            "[2021-11-23 05:27:42,174] ERROR in app: Exception on /predict-digit [POST]\n",
            "Traceback (most recent call last):\n",
            "  File \"/usr/local/lib/python3.7/dist-packages/PIL/Image.py\", line 2847, in open\n",
            "    fp.seek(0)\n",
            "AttributeError: 'NoneType' object has no attribute 'seek'\n",
            "\n",
            "During handling of the above exception, another exception occurred:\n",
            "\n",
            "Traceback (most recent call last):\n",
            "  File \"/usr/local/lib/python3.7/dist-packages/flask/app.py\", line 2073, in wsgi_app\n",
            "    response = self.full_dispatch_request()\n",
            "  File \"/usr/local/lib/python3.7/dist-packages/flask/app.py\", line 1518, in full_dispatch_request\n",
            "    rv = self.handle_user_exception(e)\n",
            "  File \"/usr/local/lib/python3.7/dist-packages/flask/app.py\", line 1516, in full_dispatch_request\n",
            "    rv = self.dispatch_request()\n",
            "  File \"/usr/local/lib/python3.7/dist-packages/flask/app.py\", line 1502, in dispatch_request\n",
            "    return self.ensure_sync(self.view_functions[rule.endpoint])(**req.view_args)\n",
            "  File \"<ipython-input-2-53ed8d670217>\", line 39, in predict_data\n",
            "    prediction = get_prediction(image)\n",
            "  File \"<ipython-input-2-53ed8d670217>\", line 20, in get_prediction\n",
            "    im_pil = Image.open(image)\n",
            "  File \"/usr/local/lib/python3.7/dist-packages/PIL/Image.py\", line 2849, in open\n",
            "    fp = io.BytesIO(fp.read())\n",
            "AttributeError: 'NoneType' object has no attribute 'read'\n",
            "127.0.0.1 - - [23/Nov/2021 05:27:42] \"\u001b[35m\u001b[1mPOST /predict-digit HTTP/1.1\u001b[0m\" 500 -\n",
            "[2021-11-23 05:28:09,169] ERROR in app: Exception on /predict-digit [POST]\n",
            "Traceback (most recent call last):\n",
            "  File \"/usr/local/lib/python3.7/dist-packages/PIL/Image.py\", line 2847, in open\n",
            "    fp.seek(0)\n",
            "AttributeError: 'NoneType' object has no attribute 'seek'\n",
            "\n",
            "During handling of the above exception, another exception occurred:\n",
            "\n",
            "Traceback (most recent call last):\n",
            "  File \"/usr/local/lib/python3.7/dist-packages/flask/app.py\", line 2073, in wsgi_app\n",
            "    response = self.full_dispatch_request()\n",
            "  File \"/usr/local/lib/python3.7/dist-packages/flask/app.py\", line 1518, in full_dispatch_request\n",
            "    rv = self.handle_user_exception(e)\n",
            "  File \"/usr/local/lib/python3.7/dist-packages/flask/app.py\", line 1516, in full_dispatch_request\n",
            "    rv = self.dispatch_request()\n",
            "  File \"/usr/local/lib/python3.7/dist-packages/flask/app.py\", line 1502, in dispatch_request\n",
            "    return self.ensure_sync(self.view_functions[rule.endpoint])(**req.view_args)\n",
            "  File \"<ipython-input-2-53ed8d670217>\", line 39, in predict_data\n",
            "    prediction = get_prediction(image)\n",
            "  File \"<ipython-input-2-53ed8d670217>\", line 20, in get_prediction\n",
            "    im_pil = Image.open(image)\n",
            "  File \"/usr/local/lib/python3.7/dist-packages/PIL/Image.py\", line 2849, in open\n",
            "    fp = io.BytesIO(fp.read())\n",
            "AttributeError: 'NoneType' object has no attribute 'read'\n",
            "127.0.0.1 - - [23/Nov/2021 05:28:09] \"\u001b[35m\u001b[1mPOST /predict-digit HTTP/1.1\u001b[0m\" 500 -\n",
            "[2021-11-23 05:29:36,543] ERROR in app: Exception on /predict-digit [POST]\n",
            "Traceback (most recent call last):\n",
            "  File \"/usr/local/lib/python3.7/dist-packages/PIL/Image.py\", line 2847, in open\n",
            "    fp.seek(0)\n",
            "AttributeError: 'NoneType' object has no attribute 'seek'\n",
            "\n",
            "During handling of the above exception, another exception occurred:\n",
            "\n",
            "Traceback (most recent call last):\n",
            "  File \"/usr/local/lib/python3.7/dist-packages/flask/app.py\", line 2073, in wsgi_app\n",
            "    response = self.full_dispatch_request()\n",
            "  File \"/usr/local/lib/python3.7/dist-packages/flask/app.py\", line 1518, in full_dispatch_request\n",
            "    rv = self.handle_user_exception(e)\n",
            "  File \"/usr/local/lib/python3.7/dist-packages/flask/app.py\", line 1516, in full_dispatch_request\n",
            "    rv = self.dispatch_request()\n",
            "  File \"/usr/local/lib/python3.7/dist-packages/flask/app.py\", line 1502, in dispatch_request\n",
            "    return self.ensure_sync(self.view_functions[rule.endpoint])(**req.view_args)\n",
            "  File \"<ipython-input-2-53ed8d670217>\", line 39, in predict_data\n",
            "    prediction = get_prediction(image)\n",
            "  File \"<ipython-input-2-53ed8d670217>\", line 20, in get_prediction\n",
            "    im_pil = Image.open(image)\n",
            "  File \"/usr/local/lib/python3.7/dist-packages/PIL/Image.py\", line 2849, in open\n",
            "    fp = io.BytesIO(fp.read())\n",
            "AttributeError: 'NoneType' object has no attribute 'read'\n",
            "127.0.0.1 - - [23/Nov/2021 05:29:36] \"\u001b[35m\u001b[1mPOST /predict-digit HTTP/1.1\u001b[0m\" 500 -\n"
          ]
        }
      ],
      "source": [
        "from flask import Flask, jsonify, request\n",
        "import numpy as np\n",
        "import pandas as pd\n",
        "from sklearn.datasets import fetch_openml\n",
        "from sklearn.model_selection import train_test_split\n",
        "from sklearn.linear_model import LogisticRegression\n",
        "from PIL import Image\n",
        "import PIL.ImageOps\n",
        "from flask_ngrok import run_with_ngrok\n",
        "X, y = fetch_openml('mnist_784', version=1, return_X_y=True)\n",
        "\n",
        "X_train, X_test, y_train, y_test = train_test_split(X, y, random_state=9, train_size=7500, test_size=2500)\n",
        "\n",
        "X_train_scaled = X_train/255.0\n",
        "X_test_scaled = X_test/255.0\n",
        "\n",
        "clf = LogisticRegression(solver='saga', multi_class='multinomial').fit(X_train_scaled, y_train)\n",
        "\n",
        "def get_prediction(image):\n",
        "    im_pil = Image.open(image)\n",
        "    image_bw = im_pil.convert('L')\n",
        "    image_bw_resized = image_bw.resize((28,28), Image.ANTIALIAS)\n",
        "    pixel_filter = 20\n",
        "    min_pixel = np.percentile(image_bw_resized, pixel_filter)\n",
        "    image_bw_resized_inverted_scaled = np.clip(image_bw_resized-min_pixel, 0, 255)\n",
        "    max_pixel = np.max(image_bw_resized)\n",
        "    image_bw_resized_inverted_scaled = np.asarray(image_bw_resized_inverted_scaled)/max_pixel\n",
        "    test_sample = np.array(image_bw_resized_inverted_scaled).reshape(1,784)\n",
        "    test_pred = clf.predict(test_sample)\n",
        "    return test_pred[0]\n",
        "    \n",
        "\n",
        "app = Flask(__name__)\n",
        "run_with_ngrok(app)\n",
        "@app.route(\"/predict-digit\", methods=[\"POST\"])\n",
        "def predict_data():\n",
        "  # image = cv2.imdecode(np.fromstring(request.files.get(\"digit\").read(), np.uint8), cv2.IMREAD_UNCHANGED)\n",
        "  image = request.files.get(\"digit\")\n",
        "  prediction = get_prediction(image)\n",
        "  return jsonify({\n",
        "    \"prediction\": prediction\n",
        "  }), 200\n",
        "\n",
        "if __name__ == \"__main__\":\n",
        "  app.run()"
      ]
    }
  ],
  "metadata": {
    "colab": {
      "name": "C125-Model View Controller.ipynb",
      "provenance": [],
      "authorship_tag": "ABX9TyM8YcKSFfd2ZHNGPlELpBIo",
      "include_colab_link": true
    },
    "kernelspec": {
      "display_name": "Python 3",
      "name": "python3"
    },
    "language_info": {
      "name": "python"
    }
  },
  "nbformat": 4,
  "nbformat_minor": 0
}