{
  "cells": [
    {
      "cell_type": "markdown",
      "metadata": {
        "id": "view-in-github",
        "colab_type": "text"
      },
      "source": [
        "<a href=\"https://colab.research.google.com/github/swapnilwable25/C125/blob/master/C142_Flask_Mockup_2.ipynb\" target=\"_parent\"><img src=\"https://colab.research.google.com/assets/colab-badge.svg\" alt=\"Open In Colab\"/></a>"
      ]
    },
    {
      "cell_type": "code",
      "execution_count": null,
      "metadata": {
        "colab": {
          "base_uri": "https://localhost:8080/"
        },
        "id": "PBkUnhZiV2ZQ",
        "outputId": "5adc97e2-b907-4307-dc31-e7feae6e2bac"
      },
      "outputs": [
        {
          "name": "stdout",
          "output_type": "stream",
          "text": [
            "Cloning into 'c-142'...\n",
            "remote: Enumerating objects: 26, done.\u001b[K\n",
            "remote: Counting objects: 100% (26/26), done.\u001b[K\n",
            "remote: Compressing objects: 100% (19/19), done.\u001b[K\n",
            "remote: Total 26 (delta 9), reused 23 (delta 6), pack-reused 0\u001b[K\n",
            "Unpacking objects: 100% (26/26), done.\n"
          ]
        }
      ],
      "source": [
        "!git clone https://github.com/whitehatjr/c-142.git"
      ]
    },
    {
      "cell_type": "code",
      "execution_count": null,
      "metadata": {
        "colab": {
          "base_uri": "https://localhost:8080/"
        },
        "id": "NeS8ZTKiV7sV",
        "outputId": "e6c8821a-1f6f-4938-9eb0-e966a82c9bfe"
      },
      "outputs": [
        {
          "name": "stdout",
          "output_type": "stream",
          "text": [
            "Collecting flask-ngrok\n",
            "  Downloading flask_ngrok-0.0.25-py3-none-any.whl (3.1 kB)\n",
            "Requirement already satisfied: requests in /usr/local/lib/python3.7/dist-packages (from flask-ngrok) (2.23.0)\n",
            "Requirement already satisfied: Flask>=0.8 in /usr/local/lib/python3.7/dist-packages (from flask-ngrok) (1.1.4)\n",
            "Requirement already satisfied: itsdangerous<2.0,>=0.24 in /usr/local/lib/python3.7/dist-packages (from Flask>=0.8->flask-ngrok) (1.1.0)\n",
            "Requirement already satisfied: click<8.0,>=5.1 in /usr/local/lib/python3.7/dist-packages (from Flask>=0.8->flask-ngrok) (7.1.2)\n",
            "Requirement already satisfied: Jinja2<3.0,>=2.10.1 in /usr/local/lib/python3.7/dist-packages (from Flask>=0.8->flask-ngrok) (2.11.3)\n",
            "Requirement already satisfied: Werkzeug<2.0,>=0.15 in /usr/local/lib/python3.7/dist-packages (from Flask>=0.8->flask-ngrok) (1.0.1)\n",
            "Requirement already satisfied: MarkupSafe>=0.23 in /usr/local/lib/python3.7/dist-packages (from Jinja2<3.0,>=2.10.1->Flask>=0.8->flask-ngrok) (2.0.1)\n",
            "Requirement already satisfied: chardet<4,>=3.0.2 in /usr/local/lib/python3.7/dist-packages (from requests->flask-ngrok) (3.0.4)\n",
            "Requirement already satisfied: urllib3!=1.25.0,!=1.25.1,<1.26,>=1.21.1 in /usr/local/lib/python3.7/dist-packages (from requests->flask-ngrok) (1.24.3)\n",
            "Requirement already satisfied: idna<3,>=2.5 in /usr/local/lib/python3.7/dist-packages (from requests->flask-ngrok) (2.10)\n",
            "Requirement already satisfied: certifi>=2017.4.17 in /usr/local/lib/python3.7/dist-packages (from requests->flask-ngrok) (2021.10.8)\n",
            "Installing collected packages: flask-ngrok\n",
            "Successfully installed flask-ngrok-0.0.25\n",
            "Collecting flask==0.12.2\n",
            "  Downloading Flask-0.12.2-py2.py3-none-any.whl (83 kB)\n",
            "\u001b[K     |████████████████████████████████| 83 kB 1.0 MB/s \n",
            "\u001b[?25hRequirement already satisfied: Jinja2>=2.4 in /usr/local/lib/python3.7/dist-packages (from flask==0.12.2) (2.11.3)\n",
            "Requirement already satisfied: itsdangerous>=0.21 in /usr/local/lib/python3.7/dist-packages (from flask==0.12.2) (1.1.0)\n",
            "Requirement already satisfied: Werkzeug>=0.7 in /usr/local/lib/python3.7/dist-packages (from flask==0.12.2) (1.0.1)\n",
            "Requirement already satisfied: click>=2.0 in /usr/local/lib/python3.7/dist-packages (from flask==0.12.2) (7.1.2)\n",
            "Requirement already satisfied: MarkupSafe>=0.23 in /usr/local/lib/python3.7/dist-packages (from Jinja2>=2.4->flask==0.12.2) (2.0.1)\n",
            "Installing collected packages: flask\n",
            "  Attempting uninstall: flask\n",
            "    Found existing installation: Flask 1.1.4\n",
            "    Uninstalling Flask-1.1.4:\n",
            "      Successfully uninstalled Flask-1.1.4\n",
            "Successfully installed flask-0.12.2\n",
            "Requirement already satisfied: flask in /usr/local/lib/python3.7/dist-packages (0.12.2)\n",
            "Collecting flask\n",
            "  Downloading Flask-2.0.2-py3-none-any.whl (95 kB)\n",
            "\u001b[K     |████████████████████████████████| 95 kB 2.5 MB/s \n",
            "\u001b[?25hRequirement already satisfied: click>=7.1.2 in /usr/local/lib/python3.7/dist-packages (from flask) (7.1.2)\n",
            "Collecting Jinja2>=3.0\n",
            "  Downloading Jinja2-3.0.3-py3-none-any.whl (133 kB)\n",
            "\u001b[K     |████████████████████████████████| 133 kB 12.6 MB/s \n",
            "\u001b[?25hCollecting Werkzeug>=2.0\n",
            "  Downloading Werkzeug-2.0.2-py3-none-any.whl (288 kB)\n",
            "\u001b[K     |████████████████████████████████| 288 kB 20.9 MB/s \n",
            "\u001b[?25hCollecting itsdangerous>=2.0\n",
            "  Downloading itsdangerous-2.0.1-py3-none-any.whl (18 kB)\n",
            "Requirement already satisfied: MarkupSafe>=2.0 in /usr/local/lib/python3.7/dist-packages (from Jinja2>=3.0->flask) (2.0.1)\n",
            "Installing collected packages: Werkzeug, Jinja2, itsdangerous, flask\n",
            "  Attempting uninstall: Werkzeug\n",
            "    Found existing installation: Werkzeug 1.0.1\n",
            "    Uninstalling Werkzeug-1.0.1:\n",
            "      Successfully uninstalled Werkzeug-1.0.1\n",
            "  Attempting uninstall: Jinja2\n",
            "    Found existing installation: Jinja2 2.11.3\n",
            "    Uninstalling Jinja2-2.11.3:\n",
            "      Successfully uninstalled Jinja2-2.11.3\n",
            "  Attempting uninstall: itsdangerous\n",
            "    Found existing installation: itsdangerous 1.1.0\n",
            "    Uninstalling itsdangerous-1.1.0:\n",
            "      Successfully uninstalled itsdangerous-1.1.0\n",
            "  Attempting uninstall: flask\n",
            "    Found existing installation: Flask 0.12.2\n",
            "    Uninstalling Flask-0.12.2:\n",
            "      Successfully uninstalled Flask-0.12.2\n",
            "\u001b[31mERROR: pip's dependency resolver does not currently take into account all the packages that are installed. This behaviour is the source of the following dependency conflicts.\n",
            "datascience 0.10.6 requires folium==0.2.1, but you have folium 0.8.3 which is incompatible.\u001b[0m\n",
            "Successfully installed Jinja2-3.0.3 Werkzeug-2.0.2 flask-2.0.2 itsdangerous-2.0.1\n"
          ]
        }
      ],
      "source": [
        "!pip install flask-ngrok\n",
        "!pip install flask==0.12.2  # Newer versions of flask don't work in Colab\n",
        "!pip install -U flask                            # See https://github.com/plotly/dash/issues/257"
      ]
    },
    {
      "cell_type": "markdown",
      "metadata": {
        "id": "r5rOJRj_ZIrw"
      },
      "source": [
        "storage.py"
      ]
    },
    {
      "cell_type": "code",
      "execution_count": null,
      "metadata": {
        "id": "S0igYXDtXgra"
      },
      "outputs": [],
      "source": [
        "import csv\n",
        "\n",
        "all_movies = []\n",
        "\n",
        "with open('/content/c-142/final.csv') as f:\n",
        "    reader = csv.reader(f)\n",
        "    data = list(reader)\n",
        "    all_movies = data[1:]\n",
        "\n",
        "liked_movies = []\n",
        "not_liked_movies = []\n",
        "did_not_watch = []"
      ]
    },
    {
      "cell_type": "markdown",
      "metadata": {
        "id": "g4rzJEqIZL9s"
      },
      "source": [
        "demographic_filtering"
      ]
    },
    {
      "cell_type": "code",
      "execution_count": null,
      "metadata": {
        "id": "kwQOHhttYTIE"
      },
      "outputs": [],
      "source": [
        "import pandas as pd\n",
        "import numpy as np\n",
        "\n",
        "df = pd.read_csv('/content/c-142/final.csv')\n",
        "\n",
        "C = df['vote_average'].mean()\n",
        "m = df['vote_count'].quantile(0.9)\n",
        "q_movies = df.copy().loc[df['vote_count'] >= m]\n",
        "\n",
        "def weighted_rating(x, m=m, C=C):\n",
        "    v = x['vote_count']\n",
        "    R = x['vote_average']\n",
        "    return (v/(v+m) * R) + (m/(m+v) * C)\n",
        "\n",
        "q_movies['score'] = q_movies.apply(weighted_rating, axis=1)\n",
        "\n",
        "q_movies = q_movies.sort_values('score', ascending=False)\n",
        "\n",
        "output = q_movies[['title', 'poster_link', 'release_date', 'runtime', 'vote_average', 'overview']].head(20).values.tolist()\n",
        "\n"
      ]
    },
    {
      "cell_type": "markdown",
      "metadata": {
        "id": "BaoZk9KPZSfD"
      },
      "source": [
        "content_filtering.py\n"
      ]
    },
    {
      "cell_type": "code",
      "execution_count": null,
      "metadata": {
        "id": "KbxhqsX_Ya-e"
      },
      "outputs": [],
      "source": [
        "from sklearn.feature_extraction.text import CountVectorizer\n",
        "from sklearn.metrics.pairwise import cosine_similarity\n",
        "import pandas as pd\n",
        "import numpy as np\n",
        "\n",
        "df = pd.read_csv('/content/c-142/final.csv')\n",
        "df = df[df['soup'].notna()]\n",
        "\n",
        "count = CountVectorizer(stop_words='english')\n",
        "count_matrix = count.fit_transform(df['soup'])\n",
        "\n",
        "cosine_sim = cosine_similarity(count_matrix, count_matrix)\n",
        "\n",
        "df = df.reset_index()\n",
        "indices = pd.Series(df.index, index=df['title'])\n",
        "\n",
        "def get_recommendations(title):\n",
        "    idx = indices[title]\n",
        "    sim_scores = list(enumerate(cosine_sim[idx]))\n",
        "    sim_scores = sorted(sim_scores, key=lambda x: x[1], reverse=True)\n",
        "    sim_scores = sim_scores[1:11]\n",
        "    movie_indices = [i[0] for i in sim_scores]\n",
        "    return df[['title', 'poster_link', 'release_date', 'runtime', 'vote_average', 'overview']].iloc[movie_indices].values.tolist()"
      ]
    },
    {
      "cell_type": "code",
      "execution_count": null,
      "metadata": {
        "colab": {
          "background_save": true,
          "base_uri": "https://localhost:8080/"
        },
        "id": "3biIq2t4WL4e",
        "outputId": "b7ed912c-0a19-4797-fb9d-4b9a64bbcb35"
      },
      "outputs": [
        {
          "name": "stdout",
          "output_type": "stream",
          "text": [
            " * Serving Flask app '__main__' (lazy loading)\n",
            " * Environment: production\n",
            "\u001b[31m   WARNING: This is a development server. Do not use it in a production deployment.\u001b[0m\n",
            "\u001b[2m   Use a production WSGI server instead.\u001b[0m\n",
            " * Debug mode: off\n"
          ]
        },
        {
          "name": "stderr",
          "output_type": "stream",
          "text": [
            " * Running on http://127.0.0.1:5000/ (Press CTRL+C to quit)\n"
          ]
        },
        {
          "name": "stdout",
          "output_type": "stream",
          "text": [
            " * Running on http://3326-35-234-55-50.ngrok.io\n",
            " * Traffic stats available on http://127.0.0.1:4040\n"
          ]
        }
      ],
      "source": [
        "from flask import Flask, jsonify, request\n",
        "from flask_ngrok import run_with_ngrok\n",
        "\n",
        "\n",
        "app = Flask(__name__)\n",
        "run_with_ngrok(app)\n",
        "\n",
        "@app.route(\"/get-movie\")\n",
        "def get_movie():\n",
        "    movie_data = {\n",
        "        \"title\": all_movies[0][19],\n",
        "        \"poster_link\": all_movies[0][27],\n",
        "        \"release_date\": all_movies[0][13] or \"N/A\",\n",
        "        \"duration\": all_movies[0][15],\n",
        "        \"rating\": all_movies[0][20],\n",
        "        \"overview\": all_movies[0][9]\n",
        "    }\n",
        "    return jsonify({\n",
        "        \"data\": movie_data,\n",
        "        \"status\": \"success\"\n",
        "    })\n",
        "\n",
        "@app.route(\"/liked-movie\", methods=[\"POST\"])\n",
        "def liked_movie():\n",
        "    movie = all_movies[0]\n",
        "    liked_movies.append(movie)\n",
        "    all_movies.pop(0)\n",
        "    return jsonify({\n",
        "        \"status\": \"success\"\n",
        "    }), 201\n",
        "\n",
        "@app.route(\"/unliked-movie\", methods=[\"POST\"])\n",
        "def unliked_movie():\n",
        "    movie = all_movies[0]\n",
        "    not_liked_movies.append(movie)\n",
        "    all_movies.pop(0)\n",
        "    return jsonify({\n",
        "        \"status\": \"success\"\n",
        "    }), 201\n",
        "\n",
        "@app.route(\"/did-not-watch\", methods=[\"POST\"])\n",
        "def did_not_watch_view():\n",
        "    movie = all_movies[0]\n",
        "    did_not_watch.append(movie)\n",
        "    all_movies.pop(0)\n",
        "    return jsonify({\n",
        "        \"status\": \"success\"\n",
        "    }), 201\n",
        "\n",
        "@app.route(\"/popular-movies\")\n",
        "def popular_movies():\n",
        "    movie_data = []\n",
        "    for movie in output:\n",
        "        _d = {\n",
        "            \"title\": movie[0],\n",
        "            \"poster_link\": movie[1],\n",
        "            \"release_date\": movie[2] or \"N/A\",\n",
        "            \"duration\": movie[3],\n",
        "            \"rating\": movie[4],\n",
        "            \"overview\": movie[5]\n",
        "        }\n",
        "        movie_data.append(_d)\n",
        "    return jsonify({\n",
        "        \"data\": movie_data,\n",
        "        \"status\": \"success\"\n",
        "    }), 200\n",
        "\n",
        "@app.route(\"/recommended-movies\")\n",
        "def recommended_movies():\n",
        "    all_recommended = []\n",
        "    for liked_movie in liked_movies:\n",
        "        output = get_recommendations(liked_movie[19])\n",
        "        for data in output:\n",
        "            all_recommended.append(data)\n",
        "    import itertools\n",
        "    all_recommended.sort()\n",
        "    all_recommended = list(all_recommended for all_recommended,_ in itertools.groupby(all_recommended))\n",
        "    movie_data = []\n",
        "    for recommended in all_recommended:\n",
        "        _d = {\n",
        "            \"title\": recommended[0],\n",
        "            \"poster_link\": recommended[1],\n",
        "            \"release_date\": recommended[2] or \"N/A\",\n",
        "            \"duration\": recommended[3],\n",
        "            \"rating\": recommended[4],\n",
        "            \"overview\": recommended[5]\n",
        "        }\n",
        "        movie_data.append(_d)\n",
        "    return jsonify({\n",
        "        \"data\": movie_data,\n",
        "        \"status\": \"success\"\n",
        "    }), 200\n",
        "\n",
        "if __name__ == \"__main__\":\n",
        "  app.run()"
      ]
    }
  ],
  "metadata": {
    "colab": {
      "name": "C142-Flask Mockup 2.ipynb",
      "provenance": [],
      "authorship_tag": "ABX9TyPJuVSiC3IrefMntuhnzHN1",
      "include_colab_link": true
    },
    "kernelspec": {
      "display_name": "Python 3",
      "name": "python3"
    },
    "language_info": {
      "name": "python"
    }
  },
  "nbformat": 4,
  "nbformat_minor": 0
}